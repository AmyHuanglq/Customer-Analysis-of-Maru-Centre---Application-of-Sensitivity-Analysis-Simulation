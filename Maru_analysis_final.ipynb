{
 "cells": [
  {
   "cell_type": "code",
   "execution_count": 1,
   "id": "fd8ba685",
   "metadata": {
    "id": "fd8ba685"
   },
   "outputs": [],
   "source": [
    "import pandas as pd\n",
    "import numpy as np\n",
    "import matplotlib.pyplot as plt"
   ]
  },
  {
   "cell_type": "code",
   "execution_count": 2,
   "id": "56b7420a",
   "metadata": {
    "id": "56b7420a"
   },
   "outputs": [],
   "source": [
    "maru_data = pd.read_csv(\"maru_data.csv\")"
   ]
  },
  {
   "cell_type": "code",
   "execution_count": 3,
   "id": "ac21668f",
   "metadata": {
    "id": "ac21668f"
   },
   "outputs": [
    {
     "data": {
      "text/html": [
       "<div>\n",
       "<style scoped>\n",
       "    .dataframe tbody tr th:only-of-type {\n",
       "        vertical-align: middle;\n",
       "    }\n",
       "\n",
       "    .dataframe tbody tr th {\n",
       "        vertical-align: top;\n",
       "    }\n",
       "\n",
       "    .dataframe thead th {\n",
       "        text-align: right;\n",
       "    }\n",
       "</style>\n",
       "<table border=\"1\" class=\"dataframe\">\n",
       "  <thead>\n",
       "    <tr style=\"text-align: right;\">\n",
       "      <th></th>\n",
       "      <th>segments</th>\n",
       "      <th>contact_cost</th>\n",
       "      <th>response_rate</th>\n",
       "      <th>workers_needed</th>\n",
       "      <th>worker_labor_cost_per_hr</th>\n",
       "      <th>instructors_needed</th>\n",
       "      <th>instructor_labor_cost_per_hr</th>\n",
       "      <th>price_per_hr</th>\n",
       "      <th>annual_hours</th>\n",
       "      <th>retention_rate</th>\n",
       "      <th>interest_rate</th>\n",
       "    </tr>\n",
       "  </thead>\n",
       "  <tbody>\n",
       "    <tr>\n",
       "      <th>0</th>\n",
       "      <td>little leaguers</td>\n",
       "      <td>1000</td>\n",
       "      <td>0.100</td>\n",
       "      <td>2</td>\n",
       "      <td>1500</td>\n",
       "      <td>1</td>\n",
       "      <td>3000</td>\n",
       "      <td>6500</td>\n",
       "      <td>10.0</td>\n",
       "      <td>0.75</td>\n",
       "      <td>0.1</td>\n",
       "    </tr>\n",
       "    <tr>\n",
       "      <th>1</th>\n",
       "      <td>summer sluggers</td>\n",
       "      <td>1500</td>\n",
       "      <td>0.150</td>\n",
       "      <td>1</td>\n",
       "      <td>1500</td>\n",
       "      <td>0</td>\n",
       "      <td>0</td>\n",
       "      <td>3000</td>\n",
       "      <td>4.0</td>\n",
       "      <td>0.50</td>\n",
       "      <td>0.1</td>\n",
       "    </tr>\n",
       "    <tr>\n",
       "      <th>2</th>\n",
       "      <td>elite ballplayers (print ad)</td>\n",
       "      <td>300</td>\n",
       "      <td>0.005</td>\n",
       "      <td>1</td>\n",
       "      <td>1500</td>\n",
       "      <td>1</td>\n",
       "      <td>4500</td>\n",
       "      <td>7500</td>\n",
       "      <td>20.0</td>\n",
       "      <td>0.60</td>\n",
       "      <td>0.1</td>\n",
       "    </tr>\n",
       "    <tr>\n",
       "      <th>3</th>\n",
       "      <td>elite ballplayers (party)</td>\n",
       "      <td>12500</td>\n",
       "      <td>0.250</td>\n",
       "      <td>1</td>\n",
       "      <td>1500</td>\n",
       "      <td>1</td>\n",
       "      <td>4500</td>\n",
       "      <td>7500</td>\n",
       "      <td>20.0</td>\n",
       "      <td>0.60</td>\n",
       "      <td>0.1</td>\n",
       "    </tr>\n",
       "    <tr>\n",
       "      <th>4</th>\n",
       "      <td>entertainment seekers</td>\n",
       "      <td>50</td>\n",
       "      <td>0.025</td>\n",
       "      <td>2</td>\n",
       "      <td>1500</td>\n",
       "      <td>0</td>\n",
       "      <td>0</td>\n",
       "      <td>4000</td>\n",
       "      <td>1.5</td>\n",
       "      <td>0.35</td>\n",
       "      <td>0.1</td>\n",
       "    </tr>\n",
       "  </tbody>\n",
       "</table>\n",
       "</div>"
      ],
      "text/plain": [
       "                       segments  contact_cost  response_rate  workers_needed  \\\n",
       "0               little leaguers          1000          0.100               2   \n",
       "1               summer sluggers          1500          0.150               1   \n",
       "2  elite ballplayers (print ad)           300          0.005               1   \n",
       "3     elite ballplayers (party)         12500          0.250               1   \n",
       "4         entertainment seekers            50          0.025               2   \n",
       "\n",
       "   worker_labor_cost_per_hr  instructors_needed  instructor_labor_cost_per_hr  \\\n",
       "0                      1500                   1                          3000   \n",
       "1                      1500                   0                             0   \n",
       "2                      1500                   1                          4500   \n",
       "3                      1500                   1                          4500   \n",
       "4                      1500                   0                             0   \n",
       "\n",
       "   price_per_hr  annual_hours  retention_rate  interest_rate  \n",
       "0          6500          10.0            0.75            0.1  \n",
       "1          3000           4.0            0.50            0.1  \n",
       "2          7500          20.0            0.60            0.1  \n",
       "3          7500          20.0            0.60            0.1  \n",
       "4          4000           1.5            0.35            0.1  "
      ]
     },
     "execution_count": 3,
     "metadata": {},
     "output_type": "execute_result"
    }
   ],
   "source": [
    "maru_data"
   ]
  },
  {
   "cell_type": "markdown",
   "id": "gl_tX790lc5U",
   "metadata": {
    "id": "gl_tX790lc5U"
   },
   "source": [
    "# **Part I: Case Questions**"
   ]
  },
  {
   "cell_type": "markdown",
   "id": "yajWgQXkSxKr",
   "metadata": {
    "id": "yajWgQXkSxKr"
   },
   "source": [
    "## **Calculate annual margin**"
   ]
  },
  {
   "cell_type": "code",
   "execution_count": 4,
   "id": "07cbbb91",
   "metadata": {
    "id": "07cbbb91"
   },
   "outputs": [],
   "source": [
    "maru_data['total_cost_per_hr'] = (maru_data['instructor_labor_cost_per_hr'] * maru_data['instructors_needed'] +\n",
    "                                  maru_data['worker_labor_cost_per_hr'] * maru_data['workers_needed'])\n",
    "maru_data['margin_hr'] = maru_data['price_per_hr'] - maru_data['total_cost_per_hr']\n",
    "maru_data['annual_margin'] = maru_data['margin_hr'] * maru_data['annual_hours']"
   ]
  },
  {
   "cell_type": "code",
   "execution_count": 5,
   "id": "Awtga6tpTN4S",
   "metadata": {
    "id": "Awtga6tpTN4S"
   },
   "outputs": [
    {
     "data": {
      "text/plain": [
       "0     5000.0\n",
       "1     6000.0\n",
       "2    30000.0\n",
       "3    30000.0\n",
       "4     1500.0\n",
       "Name: annual_margin, dtype: float64"
      ]
     },
     "execution_count": 5,
     "metadata": {},
     "output_type": "execute_result"
    }
   ],
   "source": [
    "maru_data['annual_margin']"
   ]
  },
  {
   "cell_type": "markdown",
   "id": "TlkXDzhCTGF9",
   "metadata": {
    "id": "TlkXDzhCTGF9"
   },
   "source": [
    "## **Case Q1: Calculate aquisition cost**"
   ]
  },
  {
   "cell_type": "code",
   "execution_count": 11,
   "id": "39faff32",
   "metadata": {
    "id": "39faff32"
   },
   "outputs": [
    {
     "data": {
      "text/plain": [
       "0    10000.0\n",
       "1    10000.0\n",
       "2    60000.0\n",
       "3    50000.0\n",
       "4     2000.0\n",
       "Name: acquisition_cost, dtype: float64"
      ]
     },
     "execution_count": 11,
     "metadata": {},
     "output_type": "execute_result"
    }
   ],
   "source": [
    "maru_data['acquisition_cost'] = maru_data['contact_cost'] / maru_data['response_rate']\n",
    "maru_data['acquisition_cost']"
   ]
  },
  {
   "cell_type": "markdown",
   "id": "oHCNFUmYjbvv",
   "metadata": {
    "id": "oHCNFUmYjbvv"
   },
   "source": [
    "## **Case Q3: Calculating Customer Lifetime Value (CLV) with Infinite Time Horizon**\n",
    "The formula used is:\n",
    "\n",
    "$$\n",
    "\\text{Net CLV} = \\left(M \\times \\frac{(1 + i)}{(1 + i - R)}\\right) - \\text{AC}\n",
    "$$\n",
    "\n",
    "where:\n",
    "- **`M`**: The annual margin for each customer.\n",
    "- **`i`**: The interest rate (or discount rate).\n",
    "- **`R`**: The retention rate, or the probability of a customer staying each period.\n",
    "- **`AC`**: The acquisition cost per customer.\n"
   ]
  },
  {
   "cell_type": "code",
   "execution_count": 13,
   "id": "be515ebe",
   "metadata": {
    "id": "be515ebe"
   },
   "outputs": [],
   "source": [
    "maru_data['clv'] = (maru_data['annual_margin'] *\n",
    "                    ((1 + maru_data['interest_rate']) / (1 + maru_data['interest_rate'] - maru_data['retention_rate'])) -\n",
    "                    maru_data['acquisition_cost'])"
   ]
  },
  {
   "cell_type": "code",
   "execution_count": 15,
   "id": "5lOtJ1D5sTR9",
   "metadata": {
    "id": "5lOtJ1D5sTR9"
   },
   "outputs": [
    {
     "data": {
      "text/plain": [
       "0     5714.285714\n",
       "1     1000.000000\n",
       "2     6000.000000\n",
       "3    16000.000000\n",
       "4      200.000000\n",
       "Name: clv, dtype: float64"
      ]
     },
     "execution_count": 15,
     "metadata": {},
     "output_type": "execute_result"
    }
   ],
   "source": [
    "maru_data['clv']"
   ]
  },
  {
   "cell_type": "markdown",
   "id": "UG8u_HX6og_a",
   "metadata": {
    "id": "UG8u_HX6og_a"
   },
   "source": [
    "## **Case Q4: The most attractive customer segment**"
   ]
  },
  {
   "cell_type": "markdown",
   "id": "4161deda-15fd-447c-ab87-2dac7549ea8b",
   "metadata": {},
   "source": [
    "The Elite Ballplayers (Party) have the highest CLV among all the other segments. And that is the type of customers that will generate higher revenue in the future."
   ]
  },
  {
   "cell_type": "code",
   "execution_count": 17,
   "id": "c4eb3260-1a9a-4d91-8a1f-dd06abcfbe06",
   "metadata": {},
   "outputs": [
    {
     "data": {
      "text/html": [
       "<div>\n",
       "<style scoped>\n",
       "    .dataframe tbody tr th:only-of-type {\n",
       "        vertical-align: middle;\n",
       "    }\n",
       "\n",
       "    .dataframe tbody tr th {\n",
       "        vertical-align: top;\n",
       "    }\n",
       "\n",
       "    .dataframe thead th {\n",
       "        text-align: right;\n",
       "    }\n",
       "</style>\n",
       "<table border=\"1\" class=\"dataframe\">\n",
       "  <thead>\n",
       "    <tr style=\"text-align: right;\">\n",
       "      <th></th>\n",
       "      <th>segments</th>\n",
       "      <th>contact_cost</th>\n",
       "      <th>response_rate</th>\n",
       "      <th>workers_needed</th>\n",
       "      <th>worker_labor_cost_per_hr</th>\n",
       "      <th>instructors_needed</th>\n",
       "      <th>instructor_labor_cost_per_hr</th>\n",
       "      <th>price_per_hr</th>\n",
       "      <th>annual_hours</th>\n",
       "      <th>retention_rate</th>\n",
       "      <th>interest_rate</th>\n",
       "      <th>total_cost_per_hr</th>\n",
       "      <th>margin_hr</th>\n",
       "      <th>annual_margin</th>\n",
       "      <th>acquisition_cost</th>\n",
       "      <th>clv</th>\n",
       "    </tr>\n",
       "  </thead>\n",
       "  <tbody>\n",
       "    <tr>\n",
       "      <th>0</th>\n",
       "      <td>little leaguers</td>\n",
       "      <td>1000</td>\n",
       "      <td>0.100</td>\n",
       "      <td>2</td>\n",
       "      <td>1500</td>\n",
       "      <td>1</td>\n",
       "      <td>3000</td>\n",
       "      <td>6500</td>\n",
       "      <td>10.0</td>\n",
       "      <td>0.75</td>\n",
       "      <td>0.1</td>\n",
       "      <td>6000</td>\n",
       "      <td>500</td>\n",
       "      <td>5000.0</td>\n",
       "      <td>10000.0</td>\n",
       "      <td>5714.285714</td>\n",
       "    </tr>\n",
       "    <tr>\n",
       "      <th>1</th>\n",
       "      <td>summer sluggers</td>\n",
       "      <td>1500</td>\n",
       "      <td>0.150</td>\n",
       "      <td>1</td>\n",
       "      <td>1500</td>\n",
       "      <td>0</td>\n",
       "      <td>0</td>\n",
       "      <td>3000</td>\n",
       "      <td>4.0</td>\n",
       "      <td>0.50</td>\n",
       "      <td>0.1</td>\n",
       "      <td>1500</td>\n",
       "      <td>1500</td>\n",
       "      <td>6000.0</td>\n",
       "      <td>10000.0</td>\n",
       "      <td>1000.000000</td>\n",
       "    </tr>\n",
       "    <tr>\n",
       "      <th>2</th>\n",
       "      <td>elite ballplayers (print ad)</td>\n",
       "      <td>300</td>\n",
       "      <td>0.005</td>\n",
       "      <td>1</td>\n",
       "      <td>1500</td>\n",
       "      <td>1</td>\n",
       "      <td>4500</td>\n",
       "      <td>7500</td>\n",
       "      <td>20.0</td>\n",
       "      <td>0.60</td>\n",
       "      <td>0.1</td>\n",
       "      <td>6000</td>\n",
       "      <td>1500</td>\n",
       "      <td>30000.0</td>\n",
       "      <td>60000.0</td>\n",
       "      <td>6000.000000</td>\n",
       "    </tr>\n",
       "    <tr>\n",
       "      <th>3</th>\n",
       "      <td>elite ballplayers (party)</td>\n",
       "      <td>12500</td>\n",
       "      <td>0.250</td>\n",
       "      <td>1</td>\n",
       "      <td>1500</td>\n",
       "      <td>1</td>\n",
       "      <td>4500</td>\n",
       "      <td>7500</td>\n",
       "      <td>20.0</td>\n",
       "      <td>0.60</td>\n",
       "      <td>0.1</td>\n",
       "      <td>6000</td>\n",
       "      <td>1500</td>\n",
       "      <td>30000.0</td>\n",
       "      <td>50000.0</td>\n",
       "      <td>16000.000000</td>\n",
       "    </tr>\n",
       "    <tr>\n",
       "      <th>4</th>\n",
       "      <td>entertainment seekers</td>\n",
       "      <td>50</td>\n",
       "      <td>0.025</td>\n",
       "      <td>2</td>\n",
       "      <td>1500</td>\n",
       "      <td>0</td>\n",
       "      <td>0</td>\n",
       "      <td>4000</td>\n",
       "      <td>1.5</td>\n",
       "      <td>0.35</td>\n",
       "      <td>0.1</td>\n",
       "      <td>3000</td>\n",
       "      <td>1000</td>\n",
       "      <td>1500.0</td>\n",
       "      <td>2000.0</td>\n",
       "      <td>200.000000</td>\n",
       "    </tr>\n",
       "  </tbody>\n",
       "</table>\n",
       "</div>"
      ],
      "text/plain": [
       "                       segments  contact_cost  response_rate  workers_needed  \\\n",
       "0               little leaguers          1000          0.100               2   \n",
       "1               summer sluggers          1500          0.150               1   \n",
       "2  elite ballplayers (print ad)           300          0.005               1   \n",
       "3     elite ballplayers (party)         12500          0.250               1   \n",
       "4         entertainment seekers            50          0.025               2   \n",
       "\n",
       "   worker_labor_cost_per_hr  instructors_needed  instructor_labor_cost_per_hr  \\\n",
       "0                      1500                   1                          3000   \n",
       "1                      1500                   0                             0   \n",
       "2                      1500                   1                          4500   \n",
       "3                      1500                   1                          4500   \n",
       "4                      1500                   0                             0   \n",
       "\n",
       "   price_per_hr  annual_hours  retention_rate  interest_rate  \\\n",
       "0          6500          10.0            0.75            0.1   \n",
       "1          3000           4.0            0.50            0.1   \n",
       "2          7500          20.0            0.60            0.1   \n",
       "3          7500          20.0            0.60            0.1   \n",
       "4          4000           1.5            0.35            0.1   \n",
       "\n",
       "   total_cost_per_hr  margin_hr  annual_margin  acquisition_cost           clv  \n",
       "0               6000        500         5000.0           10000.0   5714.285714  \n",
       "1               1500       1500         6000.0           10000.0   1000.000000  \n",
       "2               6000       1500        30000.0           60000.0   6000.000000  \n",
       "3               6000       1500        30000.0           50000.0  16000.000000  \n",
       "4               3000       1000         1500.0            2000.0    200.000000  "
      ]
     },
     "execution_count": 17,
     "metadata": {},
     "output_type": "execute_result"
    }
   ],
   "source": [
    "maru_data"
   ]
  },
  {
   "cell_type": "markdown",
   "id": "2Ovu0v9botvx",
   "metadata": {
    "id": "2Ovu0v9botvx"
   },
   "source": [
    "## **Case Q5: Chiyoda ward**"
   ]
  },
  {
   "cell_type": "code",
   "execution_count": 3,
   "id": "11e23dea-9859-49d9-af70-5cc60a485ef1",
   "metadata": {},
   "outputs": [
    {
     "name": "stdout",
     "output_type": "stream",
     "text": [
      "CLV for Chiyoda ward customer: 4722.22\n"
     ]
    }
   ],
   "source": [
    "## For Chiyoda\n",
    "contact_cost = 600\t\n",
    "response_rate = 0.08\n",
    "retention_rate = 0.65\n",
    "annual_hours = 10\n",
    "interest_rate = 0.1\n",
    "\n",
    "\n",
    "#Acquisition Cost\n",
    "acquisition_cost = contact_cost / response_rate\n",
    "\n",
    "# Annual Margin\n",
    "annual_margin = (6500-6000)*10\n",
    "\n",
    "#clv\n",
    "clv = ((annual_margin * (1 + interest_rate)) / (1 + interest_rate - retention_rate) - acquisition_cost)\n",
    "print(f\"CLV for Chiyoda ward customer: {clv:.2f}\")"
   ]
  },
  {
   "cell_type": "markdown",
   "id": "927a5178-ce1c-4fef-a868-c5258a077f28",
   "metadata": {},
   "source": [
    "* Note: MBC should not sponsor Chiyoda Ward. Because Minato Ward has a higher Net CLV (5714.29) compared to Chiyoda Ward (4722.22). Chiyoda Ward has a significantly higher Net CLV (¥9,444.44) compared to Minato Ward (¥5,714.29). Even though the CAC in Chiyoda is lower (¥7,500 vs. ¥10,000), the CLV gain (¥12,222.22) makes it a better financial decision."
   ]
  },
  {
   "cell_type": "markdown",
   "id": "1juD3EZppERD",
   "metadata": {
    "id": "1juD3EZppERD"
   },
   "source": [
    "## **Case Q6: Elite ballplayers discount**"
   ]
  },
  {
   "cell_type": "code",
   "execution_count": 21,
   "id": "3b92fd52-147c-44eb-a83a-4ea695316a74",
   "metadata": {},
   "outputs": [
    {
     "name": "stdout",
     "output_type": "stream",
     "text": [
      "annual_margin: 20000\n",
      "CLV: 12857.142857142848\n"
     ]
    }
   ],
   "source": [
    "import pandas as pd\n",
    "\n",
    "# New Proposal\n",
    "proposal_data = {\n",
    "    'contact_cost': 12500,\n",
    "    'response_rate': 0.250,\n",
    "    'workers_needed': 1,\n",
    "    'worker_labor_cost_per_hr': 1500,\n",
    "    'instructors_needed': 1,\n",
    "    'instructor_labor_cost_per_hr': 4500,\n",
    "    'price_per_hr': 7000,\n",
    "    'annual_hours': 20,\n",
    "    'retention_rate': 0.75,\n",
    "    'interest_rate': 0.1\n",
    "}\n",
    "\n",
    "# annual_margin\n",
    "margin_hr = 1000\n",
    "annual_margin = margin_hr * proposal_data['annual_hours']\n",
    "\n",
    "# acquisition_cost\n",
    "acquisition_cost = 50000\n",
    "\n",
    "# CLV\n",
    "clv = annual_margin * ((1 + proposal_data['interest_rate']) / \n",
    "                       (1 + proposal_data['interest_rate'] - proposal_data['retention_rate'])) - acquisition_cost\n",
    "\n",
    "print(\"annual_margin:\", annual_margin)\n",
    "print(\"CLV:\", clv)\n"
   ]
  },
  {
   "cell_type": "markdown",
   "id": "85636bfa",
   "metadata": {},
   "source": [
    "MBC should NOT offer the ¥500/hour discount.Current Net CLV (¥16,000) is higher than the New Net CLV (¥12,857) after applying the discount.Even though the discount improves the retention rate, the loss in revenue per session outweighs this benefit."
   ]
  },
  {
   "cell_type": "markdown",
   "id": "QuRMnmDB4k44",
   "metadata": {
    "id": "QuRMnmDB4k44"
   },
   "source": [
    "# Part II Sensitivity Analysis"
   ]
  },
  {
   "cell_type": "code",
   "execution_count": 23,
   "id": "kajBX1uG4nIC",
   "metadata": {
    "id": "kajBX1uG4nIC"
   },
   "outputs": [],
   "source": [
    "# Baseline values for the \"Elite-Ballplayers (Party)\" segment\n",
    "baseline_ac = 50000  # Acquisition cost\n",
    "baseline_am = 30000  # Annual margin\n",
    "baseline_rr = 0.60   # Retention rate\n",
    "interest_rate = 0.10  # Discount rate"
   ]
  },
  {
   "cell_type": "code",
   "execution_count": 25,
   "id": "Vu7QeVnL4qm1",
   "metadata": {
    "colab": {
     "base_uri": "https://localhost:8080/",
     "height": 206
    },
    "id": "Vu7QeVnL4qm1",
    "outputId": "93554841-06e3-4e0f-dc5f-3f81ba3d4d82"
   },
   "outputs": [],
   "source": [
    "# Define alternative values for sensitivity analysis\n",
    "ac_values = np.array([40000, 45000, 50000, 55000, 60000])  # Acquisition cost scenarios\n",
    "am_values = np.array([20000, 25000, 30000, 35000, 40000])  # Annual margin scenarios\n",
    "rr_values = np.array([0.30, 0.45, 0.60, 0.75, 0.90])  # Retention rate scenarios"
   ]
  },
  {
   "cell_type": "code",
   "execution_count": 27,
   "id": "fe6d040f-760a-441b-9aac-4acdbe2be695",
   "metadata": {},
   "outputs": [
    {
     "data": {
      "image/png": "[encoded data removed]",
      "text/plain": [
       "<Figure size 1200x400 with 3 Axes>"
      ]
     },
     "metadata": {},
     "output_type": "display_data"
    }
   ],
   "source": [
    "def calculate_clv(am, ac, rr, interest_rate):\n",
    "    return (am * ((1 + interest_rate) / (1 + interest_rate - rr))) - ac\n",
    "\n",
    "# Calculating CLB=V\n",
    "clv_ac = [calculate_clv(baseline_am, ac, baseline_rr, interest_rate) for ac in ac_values]\n",
    "clv_am = [calculate_clv(am, baseline_ac, baseline_rr, interest_rate) for am in am_values]\n",
    "clv_rr = [calculate_clv(baseline_am, baseline_ac, rr, interest_rate) for rr in rr_values]\n",
    "\n",
    "# Graph of Acquisition Cost\n",
    "plt.figure(figsize=(12, 4))\n",
    "plt.subplot(1, 3, 1)\n",
    "plt.plot(ac_values, clv_ac, marker='o', linestyle='-', color='b')\n",
    "plt.xlabel('Acquisition Cost (ac)')\n",
    "plt.ylabel('Customer Lifetime Value (CLV)')\n",
    "plt.title('CLV vs. Acquisition Cost')\n",
    "plt.grid()\n",
    "\n",
    "# Graph of Annual Margin \n",
    "plt.subplot(1, 3, 2)\n",
    "plt.plot(am_values, clv_am, marker='o', linestyle='-', color='g')\n",
    "plt.xlabel('Annual Margin (am)')\n",
    "plt.ylabel('Customer Lifetime Value (CLV)')\n",
    "plt.title('CLV vs. Annual Margin')\n",
    "plt.grid()\n",
    "\n",
    "# Graph of Retention Rate\n",
    "plt.subplot(1, 3, 3)\n",
    "plt.plot(rr_values, clv_rr, marker='o', linestyle='-', color='r')\n",
    "plt.xlabel('Retention Rate (rr)')\n",
    "plt.ylabel('Customer Lifetime Value (CLV)')\n",
    "plt.title('CLV vs. Retention Rate')\n",
    "plt.grid()\n",
    "\n",
    "plt.tight_layout()\n",
    "plt.show()"
   ]
  },
  {
   "cell_type": "markdown",
   "id": "27caa1ed-10bc-4c1b-b780-20e1f3a7b406",
   "metadata": {},
   "source": [
    "The Retention Rate"
   ]
  },
  {
   "cell_type": "markdown",
   "id": "RIVqtJISU7NF",
   "metadata": {
    "id": "RIVqtJISU7NF"
   },
   "source": [
    "# **Part III Monte Carlo**"
   ]
  },
  {
   "cell_type": "markdown",
   "id": "4P0izLbnZpNH",
   "metadata": {
    "id": "4P0izLbnZpNH"
   },
   "source": [
    "# Step 1: Extract values for elite ballplayers"
   ]
  },
  {
   "cell_type": "code",
   "execution_count": 31,
   "id": "nfjlQfdeZoct",
   "metadata": {
    "id": "nfjlQfdeZoct"
   },
   "outputs": [],
   "source": [
    "elite_ballplayers = maru_data.iloc[3]  # 4th row in zero-indexed Python\n",
    "ac = elite_ballplayers[\"acquisition_cost\"]\n",
    "m = elite_ballplayers[\"annual_margin\"]\n",
    "r = elite_ballplayers[\"retention_rate\"]\n",
    "elite_ballplayers_clvaggregate = elite_ballplayers[\"clv\"]"
   ]
  },
  {
   "cell_type": "code",
   "execution_count": 33,
   "id": "k8BwZZTdT12C",
   "metadata": {
    "id": "k8BwZZTdT12C"
   },
   "outputs": [
    {
     "data": {
      "text/plain": [
       "50000.0"
      ]
     },
     "execution_count": 33,
     "metadata": {},
     "output_type": "execute_result"
    }
   ],
   "source": [
    "ac"
   ]
  },
  {
   "cell_type": "code",
   "execution_count": 35,
   "id": "_QMrlIhST270",
   "metadata": {
    "id": "_QMrlIhST270"
   },
   "outputs": [
    {
     "data": {
      "text/plain": [
       "30000.0"
      ]
     },
     "execution_count": 35,
     "metadata": {},
     "output_type": "execute_result"
    }
   ],
   "source": [
    "m"
   ]
  },
  {
   "cell_type": "code",
   "execution_count": 37,
   "id": "Zakd4WS-T4Y1",
   "metadata": {
    "id": "Zakd4WS-T4Y1"
   },
   "outputs": [
    {
     "data": {
      "text/plain": [
       "0.6"
      ]
     },
     "execution_count": 37,
     "metadata": {},
     "output_type": "execute_result"
    }
   ],
   "source": [
    "r"
   ]
  },
  {
   "cell_type": "markdown",
   "id": "xtVyicaAZ5ro",
   "metadata": {
    "id": "xtVyicaAZ5ro"
   },
   "source": [
    "# Step 2: Load and analyze customer data for margins"
   ]
  },
  {
   "cell_type": "code",
   "execution_count": 29,
   "id": "U50hyNUtYXXf",
   "metadata": {
    "id": "U50hyNUtYXXf"
   },
   "outputs": [
    {
     "data": {
      "text/html": [
       "<div>\n",
       "<style scoped>\n",
       "    .dataframe tbody tr th:only-of-type {\n",
       "        vertical-align: middle;\n",
       "    }\n",
       "\n",
       "    .dataframe tbody tr th {\n",
       "        vertical-align: top;\n",
       "    }\n",
       "\n",
       "    .dataframe thead th {\n",
       "        text-align: right;\n",
       "    }\n",
       "</style>\n",
       "<table border=\"1\" class=\"dataframe\">\n",
       "  <thead>\n",
       "    <tr style=\"text-align: right;\">\n",
       "      <th></th>\n",
       "      <th>0</th>\n",
       "    </tr>\n",
       "  </thead>\n",
       "  <tbody>\n",
       "    <tr>\n",
       "      <th>0</th>\n",
       "      <td>32101.38188</td>\n",
       "    </tr>\n",
       "    <tr>\n",
       "      <th>1</th>\n",
       "      <td>31824.26642</td>\n",
       "    </tr>\n",
       "    <tr>\n",
       "      <th>2</th>\n",
       "      <td>36026.44128</td>\n",
       "    </tr>\n",
       "    <tr>\n",
       "      <th>3</th>\n",
       "      <td>29321.40836</td>\n",
       "    </tr>\n",
       "    <tr>\n",
       "      <th>4</th>\n",
       "      <td>25518.51806</td>\n",
       "    </tr>\n",
       "    <tr>\n",
       "      <th>...</th>\n",
       "      <td>...</td>\n",
       "    </tr>\n",
       "    <tr>\n",
       "      <th>495</th>\n",
       "      <td>31478.14581</td>\n",
       "    </tr>\n",
       "    <tr>\n",
       "      <th>496</th>\n",
       "      <td>30472.63742</td>\n",
       "    </tr>\n",
       "    <tr>\n",
       "      <th>497</th>\n",
       "      <td>30422.50571</td>\n",
       "    </tr>\n",
       "    <tr>\n",
       "      <th>498</th>\n",
       "      <td>24853.16627</td>\n",
       "    </tr>\n",
       "    <tr>\n",
       "      <th>499</th>\n",
       "      <td>22639.79980</td>\n",
       "    </tr>\n",
       "  </tbody>\n",
       "</table>\n",
       "<p>500 rows × 1 columns</p>\n",
       "</div>"
      ],
      "text/plain": [
       "               0\n",
       "0    32101.38188\n",
       "1    31824.26642\n",
       "2    36026.44128\n",
       "3    29321.40836\n",
       "4    25518.51806\n",
       "..           ...\n",
       "495  31478.14581\n",
       "496  30472.63742\n",
       "497  30422.50571\n",
       "498  24853.16627\n",
       "499  22639.79980\n",
       "\n",
       "[500 rows x 1 columns]"
      ]
     },
     "execution_count": 29,
     "metadata": {},
     "output_type": "execute_result"
    }
   ],
   "source": [
    "# Load the customer margin data as a DataFrame and convert it to a Series\n",
    "customers= pd.read_csv(\"customers.csv\", header=None)\n",
    "customers"
   ]
  },
  {
   "cell_type": "code",
   "execution_count": 29,
   "id": "1070b9c0-2dd9-46da-8910-7af5340d5a3a",
   "metadata": {
    "id": "U50hyNUtYXXf"
   },
   "outputs": [
    {
     "data": {
      "text/html": [
       "<div>\n",
       "<style scoped>\n",
       "    .dataframe tbody tr th:only-of-type {\n",
       "        vertical-align: middle;\n",
       "    }\n",
       "\n",
       "    .dataframe tbody tr th {\n",
       "        vertical-align: top;\n",
       "    }\n",
       "\n",
       "    .dataframe thead th {\n",
       "        text-align: right;\n",
       "    }\n",
       "</style>\n",
       "<table border=\"1\" class=\"dataframe\">\n",
       "  <thead>\n",
       "    <tr style=\"text-align: right;\">\n",
       "      <th></th>\n",
       "      <th>0</th>\n",
       "    </tr>\n",
       "  </thead>\n",
       "  <tbody>\n",
       "    <tr>\n",
       "      <th>0</th>\n",
       "      <td>32101.38188</td>\n",
       "    </tr>\n",
       "    <tr>\n",
       "      <th>1</th>\n",
       "      <td>31824.26642</td>\n",
       "    </tr>\n",
       "    <tr>\n",
       "      <th>2</th>\n",
       "      <td>36026.44128</td>\n",
       "    </tr>\n",
       "    <tr>\n",
       "      <th>3</th>\n",
       "      <td>29321.40836</td>\n",
       "    </tr>\n",
       "    <tr>\n",
       "      <th>4</th>\n",
       "      <td>25518.51806</td>\n",
       "    </tr>\n",
       "    <tr>\n",
       "      <th>...</th>\n",
       "      <td>...</td>\n",
       "    </tr>\n",
       "    <tr>\n",
       "      <th>495</th>\n",
       "      <td>31478.14581</td>\n",
       "    </tr>\n",
       "    <tr>\n",
       "      <th>496</th>\n",
       "      <td>30472.63742</td>\n",
       "    </tr>\n",
       "    <tr>\n",
       "      <th>497</th>\n",
       "      <td>30422.50571</td>\n",
       "    </tr>\n",
       "    <tr>\n",
       "      <th>498</th>\n",
       "      <td>24853.16627</td>\n",
       "    </tr>\n",
       "    <tr>\n",
       "      <th>499</th>\n",
       "      <td>22639.79980</td>\n",
       "    </tr>\n",
       "  </tbody>\n",
       "</table>\n",
       "<p>500 rows × 1 columns</p>\n",
       "</div>"
      ],
      "text/plain": [
       "               0\n",
       "0    32101.38188\n",
       "1    31824.26642\n",
       "2    36026.44128\n",
       "3    29321.40836\n",
       "4    25518.51806\n",
       "..           ...\n",
       "495  31478.14581\n",
       "496  30472.63742\n",
       "497  30422.50571\n",
       "498  24853.16627\n",
       "499  22639.79980\n",
       "\n",
       "[500 rows x 1 columns]"
      ]
     },
     "execution_count": 29,
     "metadata": {},
     "output_type": "execute_result"
    }
   ],
   "source": [
    "# Load the customer margin data as a DataFrame and convert it to a Series\n",
    "customers= pd.read_csv(\"customers.csv\", header=None)\n",
    "customers"
   ]
  },
  {
   "cell_type": "code",
   "execution_count": 39,
   "id": "d9SmeSU45Fkv",
   "metadata": {
    "id": "d9SmeSU45Fkv"
   },
   "outputs": [
    {
     "data": {
      "text/plain": [
       "(array([ 3.,  1.,  4.,  7., 13., 17., 26., 37., 49., 39., 65., 65., 53.,\n",
       "        35., 37., 24., 15.,  3.,  2.,  5.]),\n",
       " array([14812.93368 , 16231.514802, 17650.095924, 19068.677046,\n",
       "        20487.258168, 21905.83929 , 23324.420412, 24743.001534,\n",
       "        26161.582656, 27580.163778, 28998.7449  , 30417.326022,\n",
       "        31835.907144, 33254.488266, 34673.069388, 36091.65051 ,\n",
       "        37510.231632, 38928.812754, 40347.393876, 41765.974998,\n",
       "        43184.55612 ]),\n",
       " <BarContainer object of 20 artists>)"
      ]
     },
     "execution_count": 39,
     "metadata": {},
     "output_type": "execute_result"
    },
    {
     "data": {
      "image/png": "[encoded data removed]",
      "text/plain": [
       "<Figure size 800x600 with 1 Axes>"
      ]
     },
     "metadata": {},
     "output_type": "display_data"
    }
   ],
   "source": [
    "# Plot a histogram\n",
    "plt.figure(figsize=(8, 6))\n",
    "plt.hist(customers[0], bins=20, edgecolor='black', alpha=0.7)"
   ]
  },
  {
   "cell_type": "code",
   "execution_count": 55,
   "id": "MwrBPXsG_ZWS",
   "metadata": {
    "id": "MwrBPXsG_ZWS"
   },
   "outputs": [
    {
     "data": {
      "text/plain": [
       "0    29949.879055\n",
       "dtype: float64"
      ]
     },
     "execution_count": 55,
     "metadata": {},
     "output_type": "execute_result"
    }
   ],
   "source": [
    "margin_mean = customers.mean()\n",
    "margin_mean"
   ]
  },
  {
   "cell_type": "code",
   "execution_count": 57,
   "id": "Tyxyi-Kp_aKj",
   "metadata": {
    "id": "Tyxyi-Kp_aKj"
   },
   "outputs": [
    {
     "data": {
      "text/plain": [
       "0    4798.066392\n",
       "dtype: float64"
      ]
     },
     "execution_count": 57,
     "metadata": {},
     "output_type": "execute_result"
    }
   ],
   "source": [
    "margin_std = customers.std()\n",
    "margin_std"
   ]
  },
  {
   "cell_type": "markdown",
   "id": "yKx3Z3fsapJ3",
   "metadata": {
    "id": "yKx3Z3fsapJ3"
   },
   "source": [
    "# Step 3: Define parameters and simulate customer data"
   ]
  },
  {
   "cell_type": "code",
   "execution_count": 59,
   "id": "278dc2ea-1582-4bbf-af7a-9f7703e3f12c",
   "metadata": {},
   "outputs": [],
   "source": [
    "from scipy.stats import norm\n",
    "margin_dist = norm(loc=margin_mean, scale=margin_std)"
   ]
  },
  {
   "cell_type": "code",
   "execution_count": 152,
   "id": "e8a26a1c-e751-427b-a621-073a5eecc84b",
   "metadata": {},
   "outputs": [
    {
     "name": "stderr",
     "output_type": "stream",
     "text": [
      "No artists with labels found to put in legend.  Note that artists whose label start with an underscore are ignored when legend() is called with no argument.\n"
     ]
    },
    {
     "data": {
      "image/png": "[encoded data removed]",
      "text/plain": [
       "<Figure size 1000x600 with 1 Axes>"
      ]
     },
     "metadata": {},
     "output_type": "display_data"
    }
   ],
   "source": [
    "sample_size = 5000\n",
    "sample_data = margin_dist.rvs(size=sample_size)\n",
    "\n",
    "plt.figure(figsize=(10, 6))\n",
    "plt.hist(sample_data, bins=30, edgecolor='black', alpha=0.7)\n",
    "\n",
    "plt.title(f\"Histogram of Sample Data (Sample Size: {sample_size})\")\n",
    "plt.xlabel(\"Value\")\n",
    "plt.ylabel(\"Frequency\")\n",
    "plt.legend()\n",
    "plt.show()"
   ]
  },
  {
   "cell_type": "markdown",
   "id": "JPEKYnNob9bS",
   "metadata": {
    "id": "JPEKYnNob9bS"
   },
   "source": [
    "# Step 4: Simulate retention rate using various Beta distributions and then calculate CLV"
   ]
  },
  {
   "cell_type": "code",
   "execution_count": 83,
   "id": "njnG2dh4cHBU",
   "metadata": {
    "id": "njnG2dh4cHBU"
   },
   "outputs": [],
   "source": [
    "from scipy.stats import beta"
   ]
  },
  {
   "cell_type": "code",
   "execution_count": 85,
   "id": "f9e5fef6-6c0b-4e70-b8d8-13c96fe4d74b",
   "metadata": {},
   "outputs": [],
   "source": [
    "alpha = 6\n",
    "beta_param = alpha * (1 - 0.60) / 0.60"
   ]
  },
  {
   "cell_type": "code",
   "execution_count": 125,
   "id": "b7e0057b-5324-4657-b386-045f5f5eb878",
   "metadata": {},
   "outputs": [
    {
     "data": {
      "image/png": "[encoded data removed]",
      "text/plain": [
       "<Figure size 800x500 with 1 Axes>"
      ]
     },
     "metadata": {},
     "output_type": "display_data"
    }
   ],
   "source": [
    "num_samples = 5000\n",
    "r_vec = beta.rvs(alpha, beta_param, size=num_samples)\n",
    "\n",
    "# Plot the histogram\n",
    "plt.figure(figsize=(8, 5))\n",
    "plt.hist(r_vec, bins=30, density=True, alpha=0.6, color='skyblue', edgecolor='black')\n",
    "plt.title(\"Retention Rate: α=6, β=4\")\n",
    "plt.xlabel(\"Retention Rate\")\n",
    "plt.ylabel(\"Density\")\n",
    "plt.show()"
   ]
  },
  {
   "cell_type": "code",
   "execution_count": 136,
   "id": "44bfe996-2482-436d-9717-9c0c4db9dac2",
   "metadata": {},
   "outputs": [
    {
     "data": {
      "text/plain": [
       "array([24421.92556767, 62911.09944782, 15642.39144513, ...,\n",
       "       42375.6115615 , 77627.76962591, 21017.02776763])"
      ]
     },
     "execution_count": 136,
     "metadata": {},
     "output_type": "execute_result"
    }
   ],
   "source": [
    "retention_dist = beta(alpha, beta_param)\n",
    "##change the number of customers\n",
    "num_customers = 5000\n",
    "np.random.seed(42)\n",
    "\n",
    "simulated_margins = margin_dist.rvs(size=num_customers)\n",
    "simulated_retention = retention_dist.rvs(size=num_customers)\n",
    "\n",
    "simulated_clv = calculate_clv(simulated_margins, ac, simulated_retention, interest_rate)\n",
    "simulated_clv"
   ]
  },
  {
   "cell_type": "code",
   "execution_count": 150,
   "id": "dc88ca72-e415-4af8-b670-af2c92d0f171",
   "metadata": {},
   "outputs": [
    {
     "data": {
      "image/png": "[encoded data removed]",
      "text/plain": [
       "<Figure size 1000x600 with 1 Axes>"
      ]
     },
     "metadata": {},
     "output_type": "display_data"
    }
   ],
   "source": [
    "simulated_clv_sorted = np.sort(simulated_clv)\n",
    "\n",
    "# Plot the histogram\n",
    "plt.figure(figsize=(10, 6))\n",
    "plt.hist(simulated_clv_sorted, bins=30, edgecolor='black', alpha=0.7)\n",
    "\n",
    "plt.title(f\"Histogram of Sorted Simulated CLV (Number of Customers: {num_customers})\")\n",
    "plt.xlabel(\"Customer Lifetime Value (CLV)\")\n",
    "plt.ylabel(\"Frequency\")\n",
    "plt.show()"
   ]
  },
  {
   "cell_type": "markdown",
   "id": "_wsgc2n0QWph",
   "metadata": {
    "id": "_wsgc2n0QWph"
   },
   "source": [
    "# Step 5: Whale Plot"
   ]
  },
  {
   "cell_type": "code",
   "execution_count": 154,
   "id": "395d74e1-e343-486e-aa08-5f455ccf33a2",
   "metadata": {
    "scrolled": true
   },
   "outputs": [
    {
     "data": {
      "image/png": "[encoded data removed]",
      "text/plain": [
       "<Figure size 800x600 with 1 Axes>"
      ]
     },
     "metadata": {},
     "output_type": "display_data"
    }
   ],
   "source": [
    "sorted_clv = np.sort(simulated_clv)[::-1]  \n",
    "cumulative_value = np.cumsum(sorted_clv) / np.sum(sorted_clv)\n",
    "customer_percentiles = np.linspace(0, 1, num_customers)\n",
    "\n",
    "plt.figure(figsize=(8, 6))\n",
    "plt.plot(customer_percentiles, cumulative_value, label=\"Cumulative CLV Distribution\")\n",
    "plt.axhline(0.8, color='red', linestyle='dashed', label=\"80% of Value\")\n",
    "plt.axvline(0.2, color='red', linestyle='dashed', label=\"20% of Customers\")\n",
    "plt.title(\"Whale Plot: Customer Value Concentration\")\n",
    "plt.xlabel(\"Customer Percentile\")\n",
    "plt.ylabel(\"Cumulative CLV\")\n",
    "plt.legend()\n",
    "plt.show()\n"
   ]
  },
  {
   "cell_type": "code",
   "execution_count": 134,
   "id": "78e0b02c-13c5-4bd1-9ae8-57202a52e622",
   "metadata": {},
   "outputs": [
    {
     "name": "stdout",
     "output_type": "stream",
     "text": [
      "Simulated CLV Mean: 22858.28, Std: 28257.58\n",
      "Aggregate CLV: 16000.00\n"
     ]
    }
   ],
   "source": [
    "simulated_clv_mean = simulated_clv.mean()\n",
    "simulated_clv_std = simulated_clv.std()\n",
    "print(f\"Simulated CLV Mean: {simulated_clv_mean:.2f}, Std: {simulated_clv_std:.2f}\")\n",
    "print(f\"Aggregate CLV: {elite_ballplayers_clvaggregate:.2f}\")"
   ]
  },
  {
   "cell_type": "code",
   "execution_count": null,
   "id": "9112d29d-dc14-4eaa-aebb-553e198ed7bf",
   "metadata": {},
   "outputs": [],
   "source": []
  },
  {
   "cell_type": "code",
   "execution_count": null,
   "id": "0576b03b-f38a-49d0-9529-a64ed561f514",
   "metadata": {},
   "outputs": [],
   "source": []
  }
 ],
 "metadata": {
  "colab": {
   "collapsed_sections": [
    "JPEKYnNob9bS"
   ],
   "provenance": [],
   "toc_visible": true
  },
  "kernelspec": {
   "display_name": "base",
   "language": "python",
   "name": "python3"
  },
  "language_info": {
   "codemirror_mode": {
    "name": "ipython",
    "version": 3
   },
   "file_extension": ".py",
   "mimetype": "text/x-python",
   "name": "python",
   "nbconvert_exporter": "python",
   "pygments_lexer": "ipython3",
   "version": "3.12.2"
  }
 },
 "nbformat": 4,
 "nbformat_minor": 5
}
